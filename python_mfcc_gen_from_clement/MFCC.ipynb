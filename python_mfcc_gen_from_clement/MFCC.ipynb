{
 "cells": [
  {
   "cell_type": "code",
   "execution_count": 36,
   "metadata": {},
   "outputs": [],
   "source": [
    "# Libraries\n",
    "from os import listdir\n",
    "from os.path import isdir, join\n",
    "import librosa\n",
    "import random\n",
    "import numpy as np\n",
    "import matplotlib.pyplot as plt\n",
    "import python_speech_features as psf\n",
    "import subprocess\n",
    "import time"
   ]
  },
  {
   "cell_type": "code",
   "execution_count": 37,
   "metadata": {},
   "outputs": [
    {
     "name": "stdout",
     "output_type": "stream",
     "text": [
      "['right', 'eight', 'cat', 'tree', 'backward', 'learn', 'bed', 'happy', 'go', 'dog', 'no', 'wow', 'follow', 'nine', 'left', 'stop', 'three', 'sheila', 'one', 'bird', 'zero', 'seven', 'up', 'visual', 'marvin', 'two', 'house', 'down', 'six', 'yes', 'on', 'five', 'forward', 'off', 'four']\n"
     ]
    }
   ],
   "source": [
    "# Dataset\n",
    "dataset_path = '../data_speech_commands_v0.02'\n",
    "all_targets = [name for name in listdir(dataset_path) if isdir(join(dataset_path, name))]\n",
    "all_targets.remove('_background_noise_')\n",
    "print(all_targets)"
   ]
  },
  {
   "cell_type": "code",
   "execution_count": 38,
   "metadata": {},
   "outputs": [],
   "source": [
    "# Settings\n",
    "target_list = all_targets\n",
    "feature_sets_file = 'all_targets_mfcc_sets.npz'\n",
    "perc_keep_samples = 1 # 1.0 is keep all samples\n",
    "val_ratio = 0.1\n",
    "test_ratio = 0.1\n",
    "sample_rate = 8000\n",
    "num_mfcc = 16\n",
    "len_mfcc = 16"
   ]
  },
  {
   "cell_type": "code",
   "execution_count": 39,
   "metadata": {},
   "outputs": [],
   "source": [
    "# Create list of filenames along with ground truth vector (y)\n",
    "filenames = []\n",
    "y = []\n",
    "for index, target in enumerate(target_list):\n",
    "    filenames.append(listdir(join(dataset_path, target)))\n",
    "    y.append(np.ones(len(filenames[index])) * index)"
   ]
  },
  {
   "cell_type": "code",
   "execution_count": 40,
   "metadata": {},
   "outputs": [],
   "source": [
    "# Flatten filename and y vectors\n",
    "filenames = [item for sublist in filenames for item in sublist]\n",
    "y = [item for sublist in y for item in sublist]"
   ]
  },
  {
   "cell_type": "code",
   "execution_count": 41,
   "metadata": {},
   "outputs": [],
   "source": [
    "# Associate filenames with true output and shuffle\n",
    "filenames_y = list(zip(filenames, y))\n",
    "random.shuffle(filenames_y)\n",
    "filenames, y = zip(*filenames_y)"
   ]
  },
  {
   "cell_type": "code",
   "execution_count": 42,
   "metadata": {},
   "outputs": [
    {
     "name": "stdout",
     "output_type": "stream",
     "text": [
      "len file names : 105829\n",
      "len file names : 105829\n"
     ]
    }
   ],
   "source": [
    "# Only keep the specified number of samples (shorter extraction/training)\n",
    "print(f\"len file names : {len(filenames)}\")\n",
    "filenames = filenames[:int(len(filenames) * perc_keep_samples)]\n",
    "print(f\"len file names : {len(filenames)}\")"
   ]
  },
  {
   "cell_type": "code",
   "execution_count": 43,
   "metadata": {},
   "outputs": [],
   "source": [
    "# Calculate validation and test set sizes\n",
    "val_set_size = int(len(filenames) * val_ratio)\n",
    "test_set_size = int(len(filenames) * test_ratio)"
   ]
  },
  {
   "cell_type": "code",
   "execution_count": 44,
   "metadata": {},
   "outputs": [],
   "source": [
    "# Break dataset apart into train, validation, and test sets\n",
    "filenames_val = filenames[:val_set_size]\n",
    "filenames_test = filenames[val_set_size:(val_set_size + test_set_size)]\n",
    "filenames_train = filenames[(val_set_size + test_set_size):]\n",
    "\n",
    "# Break y apart into train, validation, and test sets\n",
    "y_orig_val = y[:val_set_size]\n",
    "y_orig_test = y[val_set_size:(val_set_size + test_set_size)]\n",
    "y_orig_train = y[(val_set_size + test_set_size):]"
   ]
  },
  {
   "cell_type": "code",
   "execution_count": 45,
   "metadata": {},
   "outputs": [],
   "source": [
    "# Function: Create MFCC from given path\n",
    "def calc_mfcc(path):\n",
    "    \n",
    "    # Load wavefile\n",
    "    signal, fs = librosa.load(path, sr=sample_rate)\n",
    "    \n",
    "    # Create MFCCs from sound clip\n",
    "    mfccs = psf.base.mfcc(signal, \n",
    "                          samplerate=fs,\n",
    "                          winlen=0.256,\n",
    "                          winstep=0.050,\n",
    "                          numcep=num_mfcc,\n",
    "                          nfilt=26,\n",
    "                          nfft=2048,\n",
    "                          preemph=0.0,\n",
    "                          ceplifter=0,\n",
    "                          appendEnergy=False,\n",
    "                          winfunc=np.hanning)\n",
    "    return mfccs.transpose()\n",
    "\n",
    "def calc_mfcc_from_C(path):\n",
    "    \n",
    "    #Load wavefile\n",
    "    signal, fs = librosa.load(path, sr=sample_rate)\n",
    "    signal=signal*(2**15)\n",
    "    function=signal.astype(np.int16)\n",
    "    #Stock the Wav data in the file time_series.dat\n",
    "    np.savetxt('./time_series_1s.dat', function, fmt='%d', delimiter='\\n') \n",
    "    \n",
    "    # Call the C++ function to compute the MFCC from the time series\n",
    "    subprocess.run([\"./compute_mfcc\"], shell=True)\n",
    "\n",
    "    # Load the MFCC from the file mfcc_from_time_series.dat\n",
    "    mfcc_from_time_series = np.genfromtxt('mfcc_from_time_series_1s.dat',delimiter='\\n',dtype=None)\n",
    "    mfcc_from_time_series = mfcc_from_time_series.reshape(16,16)\n",
    "    \n",
    "    return mfcc_from_time_series #.transpose()\n",
    "\n",
    "# Function: Create MFCCs, keeping only ones of desired length\n",
    "def extract_features(in_files, in_y):\n",
    "    prob_cnt = 0\n",
    "    out_x = []\n",
    "    out_y = []\n",
    "    \n",
    "    start_time = time.time()\n",
    "    total_files = len(in_files)\n",
    "    processed_files = 0\n",
    "\n",
    "    for index, filename in enumerate(in_files):\n",
    "    \n",
    "        # Create path from given filename and target item\n",
    "        path = join(dataset_path, target_list[int(in_y[index])], \n",
    "                    filename)\n",
    "        \n",
    "        # Check to make sure we're reading a .wav file\n",
    "        if not path.endswith('.wav'):\n",
    "            continue\n",
    "\n",
    "        # Create MFCCs\n",
    "        # mfccs = calc_mfcc(path)\n",
    "        mfccs = calc_mfcc_from_C(path) # <- Use this function for C++ implementation\n",
    "\n",
    "        processed_files += 1\n",
    "        progress = processed_files / total_files * 100\n",
    "        elapsed_time = time.time() - start_time\n",
    "        average_time_per_file = elapsed_time / processed_files\n",
    "        remaining_files = total_files - processed_files\n",
    "        estimated_remaining_time = average_time_per_file * remaining_files\n",
    "\n",
    "        hours = int(estimated_remaining_time / 3600)\n",
    "        minutes = int((estimated_remaining_time % 3600) / 60)\n",
    "\n",
    "        print('Processing: {:.2f}%, Time remaining: {}h{}min'.format(progress, hours, minutes), end='\\r')\n",
    "\n",
    "\n",
    "        # Only keep MFCCs with given length\n",
    "        if mfccs.shape[1] == len_mfcc:\n",
    "            out_x.append(mfccs)\n",
    "            out_y.append(in_y[index])\n",
    "        else:\n",
    "            # print('Dropped:', index, mfccs.shape)\n",
    "            prob_cnt += 1\n",
    "            \n",
    "    return out_x, out_y, prob_cnt"
   ]
  },
  {
   "cell_type": "code",
   "execution_count": 46,
   "metadata": {},
   "outputs": [
    {
     "name": "stdout",
     "output_type": "stream",
     "text": [
      "Removed percentage: 0.0me remaining: 0h0min\n",
      "Removed percentage: 0.0me remaining: 0h0min\n",
      "Removed percentage: 0.0me remaining: 0h0min\n"
     ]
    }
   ],
   "source": [
    "# Create train, validation, and test sets\n",
    "x_train, y_train, prob = extract_features(filenames_train, \n",
    "                                          y_orig_train)\n",
    "print('Removed percentage:', prob / len(y_orig_train))\n",
    "x_val, y_val, prob = extract_features(filenames_val, y_orig_val)\n",
    "print('Removed percentage:', prob / len(y_orig_val))\n",
    "x_test, y_test, prob = extract_features(filenames_test, y_orig_test)\n",
    "print('Removed percentage:', prob / len(y_orig_test))"
   ]
  },
  {
   "cell_type": "code",
   "execution_count": 47,
   "metadata": {},
   "outputs": [],
   "source": [
    "# Save features and truth vector (y) sets to disk\n",
    "np.savez(feature_sets_file, \n",
    "         x_train=x_train, \n",
    "         y_train=y_train, \n",
    "         x_val=x_val, \n",
    "         y_val=y_val, \n",
    "         x_test=x_test, \n",
    "         y_test=y_test)"
   ]
  },
  {
   "cell_type": "code",
   "execution_count": 48,
   "metadata": {},
   "outputs": [
    {
     "name": "stdout",
     "output_type": "stream",
     "text": [
      "[29. 31. 18. ... 33. 29. 33.]\n"
     ]
    }
   ],
   "source": [
    "# TEST: Load features\n",
    "feature_sets = np.load(feature_sets_file)\n",
    "feature_sets.files\n",
    "\n",
    "len(feature_sets['x_train'])\n",
    "print(feature_sets['y_val'])\n"
   ]
  }
 ],
 "metadata": {
  "kernelspec": {
   "display_name": "Python 3",
   "language": "python",
   "name": "python3"
  },
  "language_info": {
   "codemirror_mode": {
    "name": "ipython",
    "version": 3
   },
   "file_extension": ".py",
   "mimetype": "text/x-python",
   "name": "python",
   "nbconvert_exporter": "python",
   "pygments_lexer": "ipython3",
   "version": "3.9.6"
  },
  "orig_nbformat": 4
 },
 "nbformat": 4,
 "nbformat_minor": 2
}
