{
 "cells": [
  {
   "cell_type": "code",
   "execution_count": 3,
   "metadata": {},
   "outputs": [],
   "source": [
    "import numpy as np\n",
    "import sounddevice as sd\n",
    "import subprocess\n",
    "import librosa\n",
    "import tensorflow as tf"
   ]
  },
  {
   "cell_type": "code",
   "execution_count": 5,
   "metadata": {},
   "outputs": [
    {
     "name": "stdout",
     "output_type": "stream",
     "text": [
      "En attente de détection du son...\n",
      "Son détecté !\n",
      "Son détecté ! Enregistrement en cours...\n"
     ]
    }
   ],
   "source": [
    "\n",
    "# Charger le modèle TFLite\n",
    "interpreter = tf.lite.Interpreter(model_path='all_targets.tflite')\n",
    "interpreter.allocate_tensors()\n",
    "input_details = interpreter.get_input_details()\n",
    "output_details = interpreter.get_output_details()\n",
    "\n",
    "# Définir les paramètres du traitement du signal\n",
    "sample_rate = 8000  # Définir la fréquence d'échantillonnage appropriée\n",
    "audio_duration = 1  # Durée de l'audio en secondes\n",
    "num_mfcc = 16  # Nombre de coefficients MFCC à extraire\n",
    "\n",
    "# Variable pour suivre l'état de la détection du son\n",
    "sound_detected = False\n",
    "\n",
    "# Fonction pour calculer les coefficients MFCC à partir du signal audio\n",
    "def calc_mfcc_from_audio(signal):\n",
    "    # Stocker les données audio dans le fichier time_series_1s.dat\n",
    "    np.savetxt('./time_series_1s.dat', signal, fmt='%d', delimiter='\\n')\n",
    "    \n",
    "    # Appeler la fonction C++ pour calculer les MFCC à partir de la série temporelle\n",
    "    subprocess.run([\"./compute_mfcc\"], shell=True)\n",
    "    \n",
    "    # Charger les MFCC depuis le fichier mfcc_from_time_series.dat\n",
    "    mfcc_from_time_series = np.genfromtxt('mfcc_from_time_series_1s.dat', delimiter='\\n', dtype=None)\n",
    "    mfcc_from_time_series = mfcc_from_time_series.reshape(num_mfcc, num_mfcc)\n",
    "    \n",
    "    return mfcc_from_time_series\n",
    "\n",
    "# Fonction pour effectuer une prédiction avec le modèle TFLite\n",
    "def predict(input_data):\n",
    "    interpreter.set_tensor(input_details[0]['index'], input_data)\n",
    "    interpreter.invoke()\n",
    "    output_data = interpreter.get_tensor(output_details[0]['index'])\n",
    "    predicted_class = np.argmax(output_data)\n",
    "    return predicted_class\n",
    "\n",
    "# Fonction de rappel pour enregistrer l'audio à partir du microphone\n",
    "def audio_callback(indata, frames, time, status):\n",
    "    global sound_detected\n",
    "    if status:\n",
    "        print('Erreur de l\\'enregistrement audio:', status)\n",
    "    if not sound_detected:\n",
    "        if np.max(np.abs(indata)) > 0.01:  # Détection du son (ajuster la valeur seuil selon votre environnement)\n",
    "            sound_detected = True\n",
    "\n",
    "    else:\n",
    "        processed_data = calc_mfcc_from_audio(indata[:, 0])  # Prendre uniquement le canal gauche si l'audio est stéréo\n",
    "        predicted_class = predict(processed_data)\n",
    "        print('Classe prédite:', predicted_class)\n",
    "        sound_detected = False\n",
    "\n",
    "# Enregistrer l'audio à partir du microphone et effectuer la prédiction\n",
    "with sd.InputStream(callback=audio_callback, channels=1, samplerate=sample_rate):\n",
    "    print('En attente de détection du son...')\n",
    "    while not sound_detected:\n",
    "        pass\n",
    "    print('Son détecté ! Enregistrement en cours...')\n",
    "    sd.sleep(int(audio_duration * 1000))\n"
   ]
  }
 ],
 "metadata": {
  "kernelspec": {
   "display_name": "Python 3",
   "language": "python",
   "name": "python3"
  },
  "language_info": {
   "codemirror_mode": {
    "name": "ipython",
    "version": 3
   },
   "file_extension": ".py",
   "mimetype": "text/x-python",
   "name": "python",
   "nbconvert_exporter": "python",
   "pygments_lexer": "ipython3",
   "version": "3.9.6"
  },
  "orig_nbformat": 4
 },
 "nbformat": 4,
 "nbformat_minor": 2
}
