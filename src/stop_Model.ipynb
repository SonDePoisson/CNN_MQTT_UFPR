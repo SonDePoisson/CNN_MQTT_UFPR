{
 "cells": [
  {
   "cell_type": "code",
   "execution_count": 1,
   "metadata": {},
   "outputs": [
    {
     "name": "stderr",
     "output_type": "stream",
     "text": [
      "2023-05-24 13:38:46.078716: I tensorflow/core/platform/cpu_feature_guard.cc:193] This TensorFlow binary is optimized with oneAPI Deep Neural Network Library (oneDNN) to use the following CPU instructions in performance-critical operations:  AVX2 FMA\n",
      "To enable them in other operations, rebuild TensorFlow with the appropriate compiler flags.\n"
     ]
    }
   ],
   "source": [
    "# Libraries\n",
    "\n",
    "from os import listdir\n",
    "from os.path import isdir, join\n",
    "from tensorflow.keras import layers, models\n",
    "import numpy as np\n",
    "import matplotlib.pyplot as plt"
   ]
  },
  {
   "cell_type": "code",
   "execution_count": 3,
   "metadata": {},
   "outputs": [
    {
     "name": "stdout",
     "output_type": "stream",
     "text": [
      "['right', 'eight', 'cat', 'tree', 'backward', 'learn', 'bed', 'happy', 'go', 'dog', 'no', 'wow', 'follow', 'nine', 'left', 'stop', 'three', 'sheila', 'one', 'bird', 'zero', 'seven', 'up', 'visual', 'marvin', 'two', 'house', 'down', 'six', 'yes', 'on', 'five', 'forward', 'off', 'four']\n"
     ]
    }
   ],
   "source": [
    "# Create list of all targets (minus background noise)\n",
    "dataset_path = '/Users/clementpoisson/Desktop/UFPR/data_speech_commands_v0.02'\n",
    "all_targets = all_targets = [name for name in listdir(dataset_path) if isdir(join(dataset_path, name))]\n",
    "all_targets.remove('_background_noise_')\n",
    "print(all_targets)"
   ]
  },
  {
   "cell_type": "code",
   "execution_count": 4,
   "metadata": {},
   "outputs": [],
   "source": [
    "# Settings\n",
    "feature_sets_path = '/Users/clementpoisson/Desktop/UFPR'\n",
    "feature_sets_filename = 'all_targets_mfcc_sets.npz'\n",
    "model_filename = 'wake_word_stop_model.h5'\n",
    "wake_word = 'stop'"
   ]
  },
  {
   "cell_type": "code",
   "execution_count": 5,
   "metadata": {},
   "outputs": [
    {
     "name": "stdout",
     "output_type": "stream",
     "text": [
      "['x_train', 'y_train', 'x_val', 'y_val', 'x_test', 'y_test']\n"
     ]
    }
   ],
   "source": [
    "# Load feature sets\n",
    "feature_sets = np.load(join(feature_sets_path, feature_sets_filename))\n",
    "print(feature_sets.files)"
   ]
  },
  {
   "cell_type": "code",
   "execution_count": 6,
   "metadata": {},
   "outputs": [],
   "source": [
    "# Assign feature sets\n",
    "x_train = feature_sets['x_train']\n",
    "y_train = feature_sets['y_train']\n",
    "x_val = feature_sets['x_val']\n",
    "y_val = feature_sets['y_val']\n",
    "x_test = feature_sets['x_test']\n",
    "y_test = feature_sets['y_test']"
   ]
  },
  {
   "cell_type": "code",
   "execution_count": 7,
   "metadata": {},
   "outputs": [
    {
     "name": "stdout",
     "output_type": "stream",
     "text": [
      "(77533, 16, 16)\n",
      "(9663, 16, 16)\n",
      "(9660, 16, 16)\n"
     ]
    }
   ],
   "source": [
    "# Look at tensor dimensions\n",
    "print(x_train.shape)\n",
    "print(x_val.shape)\n",
    "print(x_test.shape)"
   ]
  },
  {
   "cell_type": "code",
   "execution_count": 8,
   "metadata": {},
   "outputs": [
    {
     "name": "stdout",
     "output_type": "stream",
     "text": [
      "[31. 33. 20. ... 30.  3. 32.]\n"
     ]
    }
   ],
   "source": [
    "# Peek at labels\n",
    "print(y_val)"
   ]
  },
  {
   "cell_type": "code",
   "execution_count": 9,
   "metadata": {},
   "outputs": [],
   "source": [
    "# Convert ground truth arrays to one wake word (1) and 'other' (0)\n",
    "wake_word_index = all_targets.index(wake_word)\n",
    "y_train = np.equal(y_train, wake_word_index).astype('float64')\n",
    "y_val = np.equal(y_val, wake_word_index).astype('float64')\n",
    "y_test = np.equal(y_test, wake_word_index).astype('float64')"
   ]
  },
  {
   "cell_type": "code",
   "execution_count": 10,
   "metadata": {},
   "outputs": [
    {
     "name": "stdout",
     "output_type": "stream",
     "text": [
      "[0. 0. 0. ... 0. 0. 0.]\n"
     ]
    }
   ],
   "source": [
    "# Peek at labels after conversion\n",
    "print(y_val)"
   ]
  },
  {
   "cell_type": "code",
   "execution_count": 51,
   "metadata": {},
   "outputs": [
    {
     "name": "stdout",
     "output_type": "stream",
     "text": [
      "Percentage of Stop : 0.037772948359722655\n"
     ]
    }
   ],
   "source": [
    "# What percentage of 'stop' appear in validation labels\n",
    "print(f\"Percentage of Stop : {sum(y_val) / len(y_val)}\")"
   ]
  },
  {
   "cell_type": "code",
   "execution_count": 52,
   "metadata": {},
   "outputs": [
    {
     "name": "stdout",
     "output_type": "stream",
     "text": [
      "(77533, 16, 16)\n"
     ]
    }
   ],
   "source": [
    "# View the dimensions of our input data\n",
    "print(x_train.shape)"
   ]
  },
  {
   "cell_type": "code",
   "execution_count": 53,
   "metadata": {},
   "outputs": [
    {
     "name": "stdout",
     "output_type": "stream",
     "text": [
      "(77533, 16, 16, 1)\n",
      "(9663, 16, 16, 1)\n",
      "(9660, 16, 16, 1)\n"
     ]
    }
   ],
   "source": [
    "# CNN for TF expects (batch, height, width, channels)\n",
    "# So we reshape the input tensors with a \"color\" channel of 1\n",
    "x_train = x_train.reshape(x_train.shape[0], \n",
    "                          x_train.shape[1], \n",
    "                          x_train.shape[2], \n",
    "                          1)\n",
    "x_val = x_val.reshape(x_val.shape[0], \n",
    "                      x_val.shape[1], \n",
    "                      x_val.shape[2], \n",
    "                      1)\n",
    "x_test = x_test.reshape(x_test.shape[0], \n",
    "                        x_test.shape[1], \n",
    "                        x_test.shape[2], \n",
    "                        1)\n",
    "print(x_train.shape)\n",
    "print(x_val.shape)\n",
    "print(x_test.shape)"
   ]
  },
  {
   "cell_type": "code",
   "execution_count": 54,
   "metadata": {},
   "outputs": [
    {
     "name": "stdout",
     "output_type": "stream",
     "text": [
      "(16, 16, 1)\n"
     ]
    }
   ],
   "source": [
    "# Input shape for CNN is size of MFCC of 1 sample\n",
    "sample_shape = x_test.shape[1:]\n",
    "print(sample_shape)"
   ]
  },
  {
   "cell_type": "code",
   "execution_count": 55,
   "metadata": {},
   "outputs": [],
   "source": [
    "# Build model\n",
    "# Based on: https://www.geeksforgeeks.org/python-image-classification-using-keras/\n",
    "model = models.Sequential()\n",
    "model.add(layers.Conv2D(32, \n",
    "                        (2, 2), \n",
    "                        activation='relu',\n",
    "                        input_shape=sample_shape))\n",
    "model.add(layers.MaxPooling2D(pool_size=(2, 2)))\n",
    "\n",
    "model.add(layers.Conv2D(32, (2, 2), activation='relu'))\n",
    "model.add(layers.MaxPooling2D(pool_size=(2, 2)))\n",
    "\n",
    "model.add(layers.Conv2D(64, (2, 2), activation='relu'))\n",
    "model.add(layers.MaxPooling2D(pool_size=(2, 2)))\n",
    "\n",
    "# Classifier\n",
    "model.add(layers.Flatten())\n",
    "model.add(layers.Dense(64, activation='relu'))\n",
    "model.add(layers.Dropout(0.5))\n",
    "model.add(layers.Dense(1, activation='sigmoid'))"
   ]
  },
  {
   "cell_type": "code",
   "execution_count": 56,
   "metadata": {},
   "outputs": [
    {
     "name": "stdout",
     "output_type": "stream",
     "text": [
      "Model: \"sequential_2\"\n",
      "_________________________________________________________________\n",
      " Layer (type)                Output Shape              Param #   \n",
      "=================================================================\n",
      " conv2d_6 (Conv2D)           (None, 15, 15, 32)        160       \n",
      "                                                                 \n",
      " max_pooling2d_6 (MaxPooling  (None, 7, 7, 32)         0         \n",
      " 2D)                                                             \n",
      "                                                                 \n",
      " conv2d_7 (Conv2D)           (None, 6, 6, 32)          4128      \n",
      "                                                                 \n",
      " max_pooling2d_7 (MaxPooling  (None, 3, 3, 32)         0         \n",
      " 2D)                                                             \n",
      "                                                                 \n",
      " conv2d_8 (Conv2D)           (None, 2, 2, 64)          8256      \n",
      "                                                                 \n",
      " max_pooling2d_8 (MaxPooling  (None, 1, 1, 64)         0         \n",
      " 2D)                                                             \n",
      "                                                                 \n",
      " flatten_2 (Flatten)         (None, 64)                0         \n",
      "                                                                 \n",
      " dense_4 (Dense)             (None, 64)                4160      \n",
      "                                                                 \n",
      " dropout_2 (Dropout)         (None, 64)                0         \n",
      "                                                                 \n",
      " dense_5 (Dense)             (None, 1)                 65        \n",
      "                                                                 \n",
      "=================================================================\n",
      "Total params: 16,769\n",
      "Trainable params: 16,769\n",
      "Non-trainable params: 0\n",
      "_________________________________________________________________\n"
     ]
    }
   ],
   "source": [
    "# Display model\n",
    "model.summary()"
   ]
  },
  {
   "cell_type": "code",
   "execution_count": 57,
   "metadata": {},
   "outputs": [],
   "source": [
    "# Add training parameters to model\n",
    "model.compile(loss='binary_crossentropy', \n",
    "              optimizer='rmsprop', \n",
    "              metrics=['acc'])"
   ]
  },
  {
   "cell_type": "code",
   "execution_count": 58,
   "metadata": {},
   "outputs": [
    {
     "name": "stdout",
     "output_type": "stream",
     "text": [
      "Epoch 1/30\n",
      "776/776 [==============================] - 11s 12ms/step - loss: 0.1074 - acc: 0.9680 - val_loss: 0.0862 - val_acc: 0.9731\n",
      "Epoch 2/30\n",
      "776/776 [==============================] - 9s 11ms/step - loss: 0.0687 - acc: 0.9783 - val_loss: 0.0554 - val_acc: 0.9818\n",
      "Epoch 3/30\n",
      "776/776 [==============================] - 10s 13ms/step - loss: 0.0576 - acc: 0.9818 - val_loss: 0.0703 - val_acc: 0.9801\n",
      "Epoch 4/30\n",
      "776/776 [==============================] - 12s 15ms/step - loss: 0.0523 - acc: 0.9841 - val_loss: 0.0530 - val_acc: 0.9830\n",
      "Epoch 5/30\n",
      "776/776 [==============================] - 12s 15ms/step - loss: 0.0467 - acc: 0.9856 - val_loss: 0.0694 - val_acc: 0.9801\n",
      "Epoch 6/30\n",
      "776/776 [==============================] - 14s 18ms/step - loss: 0.0437 - acc: 0.9870 - val_loss: 0.0471 - val_acc: 0.9862\n",
      "Epoch 7/30\n",
      "776/776 [==============================] - 13s 17ms/step - loss: 0.0433 - acc: 0.9872 - val_loss: 0.0436 - val_acc: 0.9864\n",
      "Epoch 8/30\n",
      "776/776 [==============================] - 11s 14ms/step - loss: 0.0408 - acc: 0.9877 - val_loss: 0.0517 - val_acc: 0.9864\n",
      "Epoch 9/30\n",
      "776/776 [==============================] - 11s 14ms/step - loss: 0.0392 - acc: 0.9883 - val_loss: 0.0395 - val_acc: 0.9882\n",
      "Epoch 10/30\n",
      "776/776 [==============================] - 12s 15ms/step - loss: 0.0383 - acc: 0.9885 - val_loss: 0.0492 - val_acc: 0.9860\n",
      "Epoch 11/30\n",
      "776/776 [==============================] - 11s 15ms/step - loss: 0.0371 - acc: 0.9887 - val_loss: 0.0447 - val_acc: 0.9878\n",
      "Epoch 12/30\n",
      "776/776 [==============================] - 14s 18ms/step - loss: 0.0378 - acc: 0.9887 - val_loss: 0.0697 - val_acc: 0.9788\n",
      "Epoch 13/30\n",
      "776/776 [==============================] - 10s 13ms/step - loss: 0.0366 - acc: 0.9887 - val_loss: 0.0457 - val_acc: 0.9854\n",
      "Epoch 14/30\n",
      "776/776 [==============================] - 10s 13ms/step - loss: 0.0381 - acc: 0.9887 - val_loss: 0.0396 - val_acc: 0.9872\n",
      "Epoch 15/30\n",
      "776/776 [==============================] - 11s 14ms/step - loss: 0.0369 - acc: 0.9890 - val_loss: 0.0438 - val_acc: 0.9871\n",
      "Epoch 16/30\n",
      "776/776 [==============================] - 12s 16ms/step - loss: 0.0387 - acc: 0.9889 - val_loss: 0.0430 - val_acc: 0.9879\n",
      "Epoch 17/30\n",
      "776/776 [==============================] - 11s 15ms/step - loss: 0.0380 - acc: 0.9888 - val_loss: 0.0384 - val_acc: 0.9889\n",
      "Epoch 18/30\n",
      "776/776 [==============================] - 11s 14ms/step - loss: 0.0384 - acc: 0.9887 - val_loss: 0.0490 - val_acc: 0.9858\n",
      "Epoch 19/30\n",
      "776/776 [==============================] - 11s 14ms/step - loss: 0.0382 - acc: 0.9890 - val_loss: 0.0486 - val_acc: 0.9888\n",
      "Epoch 20/30\n",
      "776/776 [==============================] - 11s 14ms/step - loss: 0.0380 - acc: 0.9889 - val_loss: 0.0530 - val_acc: 0.9882\n",
      "Epoch 21/30\n",
      "776/776 [==============================] - 11s 14ms/step - loss: 0.0369 - acc: 0.9894 - val_loss: 0.0503 - val_acc: 0.9879\n",
      "Epoch 22/30\n",
      "776/776 [==============================] - 11s 14ms/step - loss: 0.0384 - acc: 0.9890 - val_loss: 0.1453 - val_acc: 0.9594\n",
      "Epoch 23/30\n",
      "776/776 [==============================] - 10s 13ms/step - loss: 0.0371 - acc: 0.9895 - val_loss: 0.0407 - val_acc: 0.9879\n",
      "Epoch 24/30\n",
      "776/776 [==============================] - 10s 12ms/step - loss: 0.0370 - acc: 0.9896 - val_loss: 0.0437 - val_acc: 0.9864\n",
      "Epoch 25/30\n",
      "776/776 [==============================] - 9s 12ms/step - loss: 0.0357 - acc: 0.9897 - val_loss: 0.0405 - val_acc: 0.9888\n",
      "Epoch 26/30\n",
      "776/776 [==============================] - 10s 12ms/step - loss: 0.0363 - acc: 0.9895 - val_loss: 0.0977 - val_acc: 0.9831\n",
      "Epoch 27/30\n",
      "776/776 [==============================] - 9s 11ms/step - loss: 0.0366 - acc: 0.9893 - val_loss: 0.1478 - val_acc: 0.9828\n",
      "Epoch 28/30\n",
      "776/776 [==============================] - 9s 11ms/step - loss: 0.0350 - acc: 0.9898 - val_loss: 0.0406 - val_acc: 0.9889\n",
      "Epoch 29/30\n",
      "776/776 [==============================] - 9s 11ms/step - loss: 0.0354 - acc: 0.9903 - val_loss: 0.0467 - val_acc: 0.9884\n",
      "Epoch 30/30\n",
      "776/776 [==============================] - 9s 11ms/step - loss: 0.0348 - acc: 0.9897 - val_loss: 0.0390 - val_acc: 0.9899\n"
     ]
    }
   ],
   "source": [
    "# Train\n",
    "history = model.fit(x_train, \n",
    "                    y_train, \n",
    "                    epochs=30, \n",
    "                    batch_size=100, \n",
    "                    validation_data=(x_val, y_val))"
   ]
  },
  {
   "cell_type": "code",
   "execution_count": 59,
   "metadata": {},
   "outputs": [
    {
     "data": {
      "image/png": "[encoded data removed]",
      "text/plain": [
       "<Figure size 640x480 with 1 Axes>"
      ]
     },
     "metadata": {},
     "output_type": "display_data"
    },
    {
     "data": {
      "image/png": "[encoded data removed]",
      "text/plain": [
       "<Figure size 640x480 with 1 Axes>"
      ]
     },
     "metadata": {},
     "output_type": "display_data"
    }
   ],
   "source": [
    "# Plot results\n",
    "\n",
    "\n",
    "acc = history.history['acc']\n",
    "val_acc = history.history['val_acc']\n",
    "loss = history.history['loss']\n",
    "val_loss = history.history['val_loss']\n",
    "\n",
    "epochs = range(1, len(acc) + 1)\n",
    "\n",
    "plt.plot(epochs, acc, 'bo', label='Training acc')\n",
    "plt.plot(epochs, val_acc, 'b', label='Validation acc')\n",
    "plt.title('Training and validation accuracy')\n",
    "plt.legend()\n",
    "\n",
    "plt.figure()\n",
    "\n",
    "plt.plot(epochs, loss, 'bo', label='Training loss')\n",
    "plt.plot(epochs, val_loss, 'b', label='Validation loss')\n",
    "plt.title('Training and validation loss')\n",
    "plt.legend()\n",
    "\n",
    "plt.show()"
   ]
  },
  {
   "cell_type": "code",
   "execution_count": 60,
   "metadata": {},
   "outputs": [],
   "source": [
    "# Save the model as a file\n",
    "models.save_model(model, model_filename)"
   ]
  },
  {
   "cell_type": "code",
   "execution_count": 61,
   "metadata": {},
   "outputs": [
    {
     "name": "stdout",
     "output_type": "stream",
     "text": [
      "12\n",
      "88\n",
      "129\n",
      "188\n",
      "199\n",
      "218\n",
      "242\n",
      "256\n",
      "288\n",
      "301\n",
      "309\n",
      "368\n",
      "393\n",
      "431\n",
      "438\n",
      "488\n",
      "496\n",
      "526\n",
      "551\n",
      "633\n",
      "667\n",
      "694\n",
      "744\n",
      "770\n",
      "772\n",
      "875\n",
      "894\n",
      "927\n",
      "928\n",
      "931\n",
      "989\n",
      "995\n",
      "1015\n",
      "1019\n",
      "1057\n",
      "1128\n",
      "1159\n",
      "1191\n",
      "1211\n",
      "1323\n",
      "1341\n",
      "1412\n",
      "1460\n",
      "1462\n",
      "1499\n",
      "1512\n",
      "1539\n",
      "1541\n",
      "1548\n",
      "1553\n",
      "1557\n",
      "1602\n",
      "1607\n",
      "1664\n",
      "1686\n",
      "1689\n",
      "1732\n",
      "1743\n",
      "1748\n",
      "1784\n",
      "1789\n",
      "1813\n",
      "1820\n",
      "1822\n",
      "1835\n",
      "1908\n",
      "1915\n",
      "1918\n",
      "1926\n",
      "1931\n",
      "1939\n",
      "1969\n",
      "2006\n",
      "2029\n",
      "2041\n",
      "2043\n",
      "2102\n",
      "2132\n",
      "2146\n",
      "2170\n",
      "2182\n",
      "2183\n",
      "2257\n",
      "2266\n",
      "2292\n",
      "2307\n",
      "2346\n",
      "2363\n",
      "2420\n",
      "2429\n",
      "2433\n",
      "2446\n",
      "2493\n",
      "2559\n",
      "2566\n",
      "2597\n",
      "2623\n",
      "2631\n",
      "2635\n",
      "2647\n",
      "2674\n",
      "2679\n",
      "2815\n",
      "2831\n",
      "2838\n",
      "2860\n",
      "2887\n",
      "2894\n",
      "2930\n",
      "2934\n",
      "2959\n",
      "2966\n",
      "2982\n",
      "2991\n",
      "2996\n",
      "3007\n",
      "3010\n",
      "3030\n",
      "3037\n",
      "3063\n",
      "3192\n",
      "3197\n",
      "3200\n",
      "3212\n",
      "3263\n",
      "3265\n",
      "3294\n",
      "3302\n",
      "3310\n",
      "3311\n",
      "3314\n",
      "3349\n",
      "3366\n",
      "3384\n",
      "3421\n",
      "3428\n",
      "3430\n",
      "3465\n",
      "3471\n",
      "3518\n",
      "3531\n",
      "3540\n",
      "3627\n",
      "3699\n",
      "3719\n",
      "3731\n",
      "3764\n",
      "3767\n",
      "3789\n",
      "3799\n",
      "3891\n",
      "3948\n",
      "3977\n",
      "4026\n",
      "4173\n",
      "4255\n",
      "4261\n",
      "4265\n",
      "4271\n",
      "4277\n",
      "4287\n",
      "4309\n",
      "4310\n",
      "4315\n",
      "4381\n",
      "4386\n",
      "4420\n",
      "4447\n",
      "4483\n",
      "4506\n",
      "4520\n",
      "4533\n",
      "4535\n",
      "4539\n",
      "4563\n",
      "4642\n",
      "4643\n",
      "4650\n",
      "4651\n",
      "4735\n",
      "4740\n",
      "4784\n",
      "4790\n",
      "4796\n",
      "4806\n",
      "4890\n",
      "4928\n",
      "4936\n",
      "4963\n",
      "4973\n",
      "4983\n",
      "4995\n",
      "5010\n",
      "5023\n",
      "5039\n",
      "5058\n",
      "5135\n",
      "5155\n",
      "5221\n",
      "5269\n",
      "5277\n",
      "5299\n",
      "5306\n",
      "5309\n",
      "5327\n",
      "5471\n",
      "5489\n",
      "5513\n",
      "5514\n",
      "5531\n",
      "5568\n",
      "5575\n",
      "5582\n",
      "5696\n",
      "5712\n",
      "5732\n",
      "5749\n",
      "5751\n",
      "5756\n",
      "5904\n",
      "5960\n",
      "5990\n",
      "5998\n",
      "6014\n",
      "6049\n",
      "6063\n",
      "6128\n",
      "6145\n",
      "6166\n",
      "6190\n",
      "6191\n",
      "6214\n",
      "6218\n",
      "6288\n",
      "6405\n",
      "6406\n",
      "6418\n",
      "6423\n",
      "6424\n",
      "6482\n",
      "6483\n",
      "6538\n",
      "6589\n",
      "6625\n",
      "6656\n",
      "6701\n",
      "6717\n",
      "6733\n",
      "6775\n",
      "6799\n",
      "6851\n",
      "6855\n",
      "6867\n",
      "6879\n",
      "6896\n",
      "6944\n",
      "6945\n",
      "6980\n",
      "6984\n",
      "7005\n",
      "7045\n",
      "7063\n",
      "7071\n",
      "7077\n",
      "7097\n",
      "7104\n",
      "7134\n",
      "7157\n",
      "7163\n",
      "7178\n",
      "7181\n",
      "7188\n",
      "7212\n",
      "7221\n",
      "7291\n",
      "7299\n",
      "7320\n",
      "7323\n",
      "7325\n",
      "7331\n",
      "7371\n",
      "7394\n",
      "7442\n",
      "7499\n",
      "7518\n",
      "7520\n",
      "7533\n",
      "7583\n",
      "7609\n",
      "7623\n",
      "7644\n",
      "7664\n",
      "7724\n",
      "7745\n",
      "7747\n",
      "7759\n",
      "7760\n",
      "7773\n",
      "7782\n",
      "7854\n",
      "7916\n",
      "7920\n",
      "7967\n",
      "7984\n",
      "7993\n",
      "8011\n",
      "8044\n",
      "8045\n",
      "8068\n",
      "8086\n",
      "8101\n",
      "8122\n",
      "8178\n",
      "8243\n",
      "8282\n",
      "8342\n",
      "8353\n",
      "8364\n",
      "8377\n",
      "8389\n",
      "8415\n",
      "8417\n",
      "8435\n",
      "8453\n",
      "8469\n",
      "8497\n",
      "8508\n",
      "8614\n",
      "8641\n",
      "8674\n",
      "8676\n",
      "8699\n",
      "8710\n",
      "8713\n",
      "8734\n",
      "8840\n",
      "8844\n",
      "8851\n",
      "8854\n",
      "8857\n",
      "8876\n",
      "8903\n",
      "8982\n",
      "9083\n",
      "9175\n",
      "9209\n",
      "9231\n",
      "9236\n",
      "9269\n",
      "9274\n",
      "9295\n",
      "9308\n",
      "9361\n",
      "9398\n",
      "9399\n",
      "9429\n",
      "9470\n",
      "9517\n",
      "9529\n",
      "9538\n",
      "9617\n",
      "9645\n",
      "9652\n"
     ]
    }
   ],
   "source": [
    "# See which are 'stop'\n",
    "for idx, y in enumerate(y_test):\n",
    "    if y == 1:\n",
    "        print(idx)"
   ]
  },
  {
   "cell_type": "code",
   "execution_count": 62,
   "metadata": {},
   "outputs": [
    {
     "name": "stdout",
     "output_type": "stream",
     "text": [
      "1/1 [==============================] - 0s 114ms/step\n",
      "Answer: 0.0  Prediction: [[5.9814698e-05]]\n",
      "1/1 [==============================] - 0s 29ms/step\n",
      "Answer: 0.0  Prediction: [[2.7416657e-08]]\n",
      "1/1 [==============================] - 0s 25ms/step\n",
      "Answer: 0.0  Prediction: [[6.0745965e-22]]\n",
      "1/1 [==============================] - 0s 24ms/step\n",
      "Answer: 0.0  Prediction: [[5.2154153e-08]]\n",
      "1/1 [==============================] - 0s 27ms/step\n",
      "Answer: 0.0  Prediction: [[1.0591485e-21]]\n",
      "1/1 [==============================] - 0s 32ms/step\n",
      "Answer: 0.0  Prediction: [[5.793691e-18]]\n",
      "1/1 [==============================] - 0s 24ms/step\n",
      "Answer: 0.0  Prediction: [[6.588062e-12]]\n",
      "1/1 [==============================] - 0s 25ms/step\n",
      "Answer: 0.0  Prediction: [[0.00156206]]\n",
      "1/1 [==============================] - 0s 25ms/step\n",
      "Answer: 0.0  Prediction: [[1.8013334e-05]]\n",
      "1/1 [==============================] - 0s 26ms/step\n",
      "Answer: 0.0  Prediction: [[4.942935e-08]]\n"
     ]
    }
   ],
   "source": [
    "# TEST: Load model and run it against test set\n",
    "model = models.load_model(model_filename)\n",
    "for i in range(100, 110):\n",
    "    print('Answer:', y_test[i], ' Prediction:', model.predict(np.expand_dims(x_test[i], 0)))"
   ]
  },
  {
   "cell_type": "code",
   "execution_count": 63,
   "metadata": {},
   "outputs": [
    {
     "name": "stdout",
     "output_type": "stream",
     "text": [
      "302/302 [==============================] - 1s 2ms/step - loss: 0.0482 - acc: 0.9871\n"
     ]
    },
    {
     "data": {
      "text/plain": [
       "[0.04815461486577988, 0.9870600700378418]"
      ]
     },
     "execution_count": 63,
     "metadata": {},
     "output_type": "execute_result"
    }
   ],
   "source": [
    "# Evaluate model with test set\n",
    "model.evaluate(x=x_test, y=y_test)"
   ]
  }
 ],
 "metadata": {
  "kernelspec": {
   "display_name": "Python 3",
   "language": "python",
   "name": "python3"
  },
  "language_info": {
   "codemirror_mode": {
    "name": "ipython",
    "version": 3
   },
   "file_extension": ".py",
   "mimetype": "text/x-python",
   "name": "python",
   "nbconvert_exporter": "python",
   "pygments_lexer": "ipython3",
   "version": "3.9.6"
  },
  "orig_nbformat": 4
 },
 "nbformat": 4,
 "nbformat_minor": 2
}
